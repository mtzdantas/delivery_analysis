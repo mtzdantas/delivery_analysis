{
 "cells": [
  {
   "cell_type": "markdown",
   "metadata": {},
   "source": [
    "# Auxiliando os Times de Marketing e Pricing da Empresa de Delivery"
   ]
  },
  {
   "cell_type": "markdown",
   "metadata": {},
   "source": [
    "A gente trabalha em uma empresa de delivery, num time de dados centralizado que atende a diversas áreas e recebemos algumas demandas que serão respondidas por meio da Análise dos dados."
   ]
  },
  {
   "cell_type": "code",
   "execution_count": 1,
   "metadata": {},
   "outputs": [],
   "source": [
    "import pandas as pd\n",
    "import matplotlib.pyplot as plt"
   ]
  },
  {
   "cell_type": "markdown",
   "metadata": {},
   "source": [
    "Numa ação de marketing, para atrair mais entregadores, vamos dar uma bonificação para os 20 entregadores que possuem maior distância percorrida ao todo. A bonificação vai variar de acordo com o tipo de profissional que ele é e o modelo que ele usa para se locomover (moto, bike, etc). Levante essas informações."
   ]
  },
  {
   "cell_type": "code",
   "execution_count": 2,
   "metadata": {},
   "outputs": [],
   "source": [
    "# Lendo os dados em formato \".csv\".\n",
    "drivers = pd.read_csv('./data/drivers.csv')\n",
    "deliveries = pd.read_csv('./data/deliveries.csv')\n",
    "orders = pd.read_csv('./data/orders.csv')\n",
    "stores = pd.read_csv('./data/stores.csv')\n",
    "hubs = pd.read_csv('./data/hubs.csv')"
   ]
  },
  {
   "cell_type": "code",
   "execution_count": 3,
   "metadata": {},
   "outputs": [],
   "source": [
    "# Filtrando somente as entregas realizadas.\n",
    "deliveries = deliveries[deliveries['delivery_status'] == 'DELIVERED']\n",
    "\n",
    "# Excluindo linhas com ids não informados.\n",
    "deliveries = deliveries.dropna(subset=['driver_id'])\n",
    "\n",
    "# Modificando os ids para ser do tipo int.\n",
    "deliveries['driver_id'] = deliveries['driver_id'].astype(int)"
   ]
  },
  {
   "cell_type": "code",
   "execution_count": 4,
   "metadata": {},
   "outputs": [],
   "source": [
    "# Filtrando os 20 entregadores com maior distância percorrida.\n",
    "top20 = deliveries.groupby('driver_id')['delivery_distance_meters'].sum().sort_values(ascending=False).head(20)\n",
    "\n",
    "# Juntando a tabela dos 20 entregadores com maior distância e suas informações de meio de transporte e tipo.\n",
    "top20_infos = pd.merge(top20, drivers, on='driver_id')\n",
    "\n",
    "# Foi possível ver que o meio de transporte de todos os 20 entregadores é a moto.\n",
    "# Então basta separar pelos dois tipos de entregadores.\n",
    "tops_operator = top20_infos[top20_infos['driver_type'] == 'LOGISTIC OPERATOR']\n",
    "tops_freelance = top20_infos[top20_infos['driver_type'] == 'FREELANCE']\n",
    "\n",
    "# Exportando tabelas\n",
    "tops_operator.to_excel('./output/tops_operator.xlsx', index=False)\n",
    "tops_freelance.to_excel('./output/tops_freelance.xlsx', index=False)"
   ]
  },
  {
   "cell_type": "markdown",
   "metadata": {},
   "source": [
    "Além disso, o time de Pricing precisa ajustar os valores pagos aos entregadores. Para isso, eles precisam da distância média percorrida pelos entregadores separada por estado, já que cada região terá seu preço."
   ]
  },
  {
   "cell_type": "code",
   "execution_count": 5,
   "metadata": {},
   "outputs": [],
   "source": [
    "# Selecionando o estado de cada loja pelo estado do hub_id vinculado a ela.\n",
    "hubs_stores = pd.merge(hubs[['hub_id', 'hub_state']], stores[['store_id', 'hub_id']], on='hub_id')\n",
    "\n",
    "# Selecionando o identificador da entrega relacionada com o pedido e mantendo sempre o estado.\n",
    "stores_orders = pd.merge(hubs_stores[['store_id', 'hub_state']], orders[['store_id', 'delivery_order_id', 'order_status']], on='store_id')\n",
    "\n",
    "# Filtrando apenas as que o status do pedido estiver concluído.\n",
    "stores_orders = stores_orders[stores_orders['order_status'] == 'FINISHED']\n",
    "\n",
    "# Juntando o estado com os dados de id e distância de entregadores.\n",
    "orders_delivery = pd.merge(stores_orders[['delivery_order_id', 'hub_state']], deliveries[['delivery_order_id', 'driver_id', 'delivery_distance_meters']], on='delivery_order_id')\n",
    "\n",
    "# Tirando a coluna \"delivery_order_id\" que não é mais necessária.\n",
    "orders_delivery = orders_delivery.drop('delivery_order_id', axis=1)\n",
    "\n",
    "# Distância percorrida por cada entregador.\n",
    "distancia_entregador = orders_delivery.groupby(['hub_state', 'driver_id'])['delivery_distance_meters'].mean()\n",
    "\n",
    "# Transformando de Series para DataFrame.\n",
    "distancia_entregador = distancia_entregador.reset_index()\n",
    "\n",
    "# Distância média percorrida pelos entregadores separada por estado.\n",
    "dados_estado = distancia_entregador.groupby('hub_state')['delivery_distance_meters'].mean()\n",
    "\n",
    "# Transformando de Series para DataFrame.\n",
    "dados_estado = dados_estado.reset_index()"
   ]
  },
  {
   "cell_type": "code",
   "execution_count": 6,
   "metadata": {},
   "outputs": [],
   "source": [
    "# Aqui vou começar a construir gráficos usando matplotlib dos dados obtidos acima."
   ]
  },
  {
   "cell_type": "code",
   "execution_count": 7,
   "metadata": {},
   "outputs": [
    {
     "data": {
      "text/html": [
       "<div>\n",
       "<style scoped>\n",
       "    .dataframe tbody tr th:only-of-type {\n",
       "        vertical-align: middle;\n",
       "    }\n",
       "\n",
       "    .dataframe tbody tr th {\n",
       "        vertical-align: top;\n",
       "    }\n",
       "\n",
       "    .dataframe thead th {\n",
       "        text-align: right;\n",
       "    }\n",
       "</style>\n",
       "<table border=\"1\" class=\"dataframe\">\n",
       "  <thead>\n",
       "    <tr style=\"text-align: right;\">\n",
       "      <th></th>\n",
       "      <th>hub_state</th>\n",
       "      <th>delivery_distance_meters</th>\n",
       "    </tr>\n",
       "  </thead>\n",
       "  <tbody>\n",
       "    <tr>\n",
       "      <th>0</th>\n",
       "      <td>PR</td>\n",
       "      <td>2860.589616</td>\n",
       "    </tr>\n",
       "    <tr>\n",
       "      <th>1</th>\n",
       "      <td>RJ</td>\n",
       "      <td>2236.226318</td>\n",
       "    </tr>\n",
       "    <tr>\n",
       "      <th>2</th>\n",
       "      <td>RS</td>\n",
       "      <td>3232.776311</td>\n",
       "    </tr>\n",
       "    <tr>\n",
       "      <th>3</th>\n",
       "      <td>SP</td>\n",
       "      <td>3268.854052</td>\n",
       "    </tr>\n",
       "  </tbody>\n",
       "</table>\n",
       "</div>"
      ],
      "text/plain": [
       "  hub_state  delivery_distance_meters\n",
       "0        PR               2860.589616\n",
       "1        RJ               2236.226318\n",
       "2        RS               3232.776311\n",
       "3        SP               3268.854052"
      ]
     },
     "execution_count": 7,
     "metadata": {},
     "output_type": "execute_result"
    }
   ],
   "source": [
    "dados_estado"
   ]
  },
  {
   "cell_type": "code",
   "execution_count": null,
   "metadata": {},
   "outputs": [],
   "source": []
  }
 ],
 "metadata": {
  "kernelspec": {
   "display_name": "delivery",
   "language": "python",
   "name": "python3"
  },
  "language_info": {
   "codemirror_mode": {
    "name": "ipython",
    "version": 3
   },
   "file_extension": ".py",
   "mimetype": "text/x-python",
   "name": "python",
   "nbconvert_exporter": "python",
   "pygments_lexer": "ipython3",
   "version": "3.9.13"
  }
 },
 "nbformat": 4,
 "nbformat_minor": 2
}
